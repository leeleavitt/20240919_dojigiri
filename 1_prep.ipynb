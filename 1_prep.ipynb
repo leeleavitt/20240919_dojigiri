{
 "cells": [
  {
   "cell_type": "code",
   "execution_count": 2,
   "metadata": {},
   "outputs": [
    {
     "data": {
      "text/plain": [
       "'local-stage'"
      ]
     },
     "execution_count": 2,
     "metadata": {},
     "output_type": "execute_result"
    }
   ],
   "source": [
    "from shomei.rollback import Rollback\n",
    "from dotenv import load_dotenv\n",
    "load_dotenv()\n",
    "import os\n",
    "os.environ[\"DATABASE_URL\"]\n"
   ]
  },
  {
   "cell_type": "code",
   "execution_count": null,
   "metadata": {},
   "outputs": [],
   "source": [
    "from cloudpathlib import CloudPath\n",
    "\n",
    "CloudPath(\"s3://shomei-test/\").unlink(recursive=True)"
   ]
  },
  {
   "cell_type": "markdown",
   "metadata": {},
   "source": [
    "# Rollback"
   ]
  },
  {
   "cell_type": "code",
   "execution_count": 8,
   "metadata": {},
   "outputs": [],
   "source": [
    "rollback = Rollback(\n",
    "    \"TST002\", \n",
    "    metadata_rollback_logic=False,\n",
    "    gating_statistics_rollback_logic=True,\n",
    "    statistical_rollback_logic=False,\n",
    "    clustering_rollback_logic=False,\n",
    ")"
   ]
  },
  {
   "cell_type": "code",
   "execution_count": 9,
   "metadata": {},
   "outputs": [
    {
     "name": "stdout",
     "output_type": "stream",
     "text": [
      "2024-09-24 16:13:20,863 - WARNING - Generated the keys for the gating statistics tables\n",
      "2024-09-24 16:13:22,244 - WARNING - ###############################################\n",
      "2024-09-24 16:13:22,245 - WARNING - Validating the data to be deleted for the gating statistics tables\n",
      "2024-09-24 16:13:22,246 - WARNING - ###############################################\n",
      "\n",
      "\n",
      "2024-09-24 16:13:22,401 - WARNING - fcs_set_sample_result by fcs_set_cytof:\n"
     ]
    },
    {
     "data": {
      "text/html": [
       "<div>\n",
       "<style scoped>\n",
       "    .dataframe tbody tr th:only-of-type {\n",
       "        vertical-align: middle;\n",
       "    }\n",
       "\n",
       "    .dataframe tbody tr th {\n",
       "        vertical-align: top;\n",
       "    }\n",
       "\n",
       "    .dataframe thead th {\n",
       "        text-align: right;\n",
       "    }\n",
       "</style>\n",
       "<table border=\"1\" class=\"dataframe\">\n",
       "  <thead>\n",
       "    <tr style=\"text-align: right;\">\n",
       "      <th></th>\n",
       "      <th>sample_result_id</th>\n",
       "      <th>fcs_set_id</th>\n",
       "    </tr>\n",
       "  </thead>\n",
       "  <tbody>\n",
       "    <tr>\n",
       "      <th>0</th>\n",
       "      <td>21</td>\n",
       "      <td>4</td>\n",
       "    </tr>\n",
       "    <tr>\n",
       "      <th>1</th>\n",
       "      <td>943</td>\n",
       "      <td>21</td>\n",
       "    </tr>\n",
       "  </tbody>\n",
       "</table>\n",
       "</div>"
      ],
      "text/plain": [
       "   sample_result_id  fcs_set_id\n",
       "0                21           4\n",
       "1               943          21"
      ]
     },
     "metadata": {},
     "output_type": "display_data"
    },
    {
     "name": "stdout",
     "output_type": "stream",
     "text": [
      "2024-09-24 16:13:22,564 - WARNING - fcs_set_sample_result by fcs_set_id:\n"
     ]
    },
    {
     "data": {
      "text/html": [
       "<div>\n",
       "<style scoped>\n",
       "    .dataframe tbody tr th:only-of-type {\n",
       "        vertical-align: middle;\n",
       "    }\n",
       "\n",
       "    .dataframe tbody tr th {\n",
       "        vertical-align: top;\n",
       "    }\n",
       "\n",
       "    .dataframe thead th {\n",
       "        text-align: right;\n",
       "    }\n",
       "</style>\n",
       "<table border=\"1\" class=\"dataframe\">\n",
       "  <thead>\n",
       "    <tr style=\"text-align: right;\">\n",
       "      <th></th>\n",
       "      <th>sample_result_id</th>\n",
       "      <th>fcs_set_id</th>\n",
       "    </tr>\n",
       "  </thead>\n",
       "  <tbody>\n",
       "    <tr>\n",
       "      <th>0</th>\n",
       "      <td>978</td>\n",
       "      <td>21</td>\n",
       "    </tr>\n",
       "    <tr>\n",
       "      <th>1</th>\n",
       "      <td>946</td>\n",
       "      <td>21</td>\n",
       "    </tr>\n",
       "    <tr>\n",
       "      <th>2</th>\n",
       "      <td>970</td>\n",
       "      <td>21</td>\n",
       "    </tr>\n",
       "    <tr>\n",
       "      <th>3</th>\n",
       "      <td>966</td>\n",
       "      <td>21</td>\n",
       "    </tr>\n",
       "    <tr>\n",
       "      <th>4</th>\n",
       "      <td>959</td>\n",
       "      <td>21</td>\n",
       "    </tr>\n",
       "    <tr>\n",
       "      <th>5</th>\n",
       "      <td>973</td>\n",
       "      <td>21</td>\n",
       "    </tr>\n",
       "    <tr>\n",
       "      <th>6</th>\n",
       "      <td>973</td>\n",
       "      <td>21</td>\n",
       "    </tr>\n",
       "    <tr>\n",
       "      <th>7</th>\n",
       "      <td>973</td>\n",
       "      <td>21</td>\n",
       "    </tr>\n",
       "    <tr>\n",
       "      <th>8</th>\n",
       "      <td>957</td>\n",
       "      <td>21</td>\n",
       "    </tr>\n",
       "    <tr>\n",
       "      <th>9</th>\n",
       "      <td>957</td>\n",
       "      <td>21</td>\n",
       "    </tr>\n",
       "    <tr>\n",
       "      <th>10</th>\n",
       "      <td>957</td>\n",
       "      <td>21</td>\n",
       "    </tr>\n",
       "    <tr>\n",
       "      <th>11</th>\n",
       "      <td>979</td>\n",
       "      <td>21</td>\n",
       "    </tr>\n",
       "    <tr>\n",
       "      <th>12</th>\n",
       "      <td>947</td>\n",
       "      <td>21</td>\n",
       "    </tr>\n",
       "    <tr>\n",
       "      <th>13</th>\n",
       "      <td>971</td>\n",
       "      <td>21</td>\n",
       "    </tr>\n",
       "    <tr>\n",
       "      <th>14</th>\n",
       "      <td>950</td>\n",
       "      <td>21</td>\n",
       "    </tr>\n",
       "    <tr>\n",
       "      <th>15</th>\n",
       "      <td>967</td>\n",
       "      <td>21</td>\n",
       "    </tr>\n",
       "    <tr>\n",
       "      <th>16</th>\n",
       "      <td>984</td>\n",
       "      <td>21</td>\n",
       "    </tr>\n",
       "    <tr>\n",
       "      <th>17</th>\n",
       "      <td>984</td>\n",
       "      <td>21</td>\n",
       "    </tr>\n",
       "    <tr>\n",
       "      <th>18</th>\n",
       "      <td>984</td>\n",
       "      <td>21</td>\n",
       "    </tr>\n",
       "    <tr>\n",
       "      <th>19</th>\n",
       "      <td>948</td>\n",
       "      <td>21</td>\n",
       "    </tr>\n",
       "    <tr>\n",
       "      <th>20</th>\n",
       "      <td>972</td>\n",
       "      <td>21</td>\n",
       "    </tr>\n",
       "    <tr>\n",
       "      <th>21</th>\n",
       "      <td>960</td>\n",
       "      <td>21</td>\n",
       "    </tr>\n",
       "    <tr>\n",
       "      <th>22</th>\n",
       "      <td>980</td>\n",
       "      <td>21</td>\n",
       "    </tr>\n",
       "    <tr>\n",
       "      <th>23</th>\n",
       "      <td>981</td>\n",
       "      <td>21</td>\n",
       "    </tr>\n",
       "    <tr>\n",
       "      <th>24</th>\n",
       "      <td>954</td>\n",
       "      <td>21</td>\n",
       "    </tr>\n",
       "    <tr>\n",
       "      <th>25</th>\n",
       "      <td>951</td>\n",
       "      <td>21</td>\n",
       "    </tr>\n",
       "    <tr>\n",
       "      <th>26</th>\n",
       "      <td>961</td>\n",
       "      <td>21</td>\n",
       "    </tr>\n",
       "    <tr>\n",
       "      <th>27</th>\n",
       "      <td>975</td>\n",
       "      <td>21</td>\n",
       "    </tr>\n",
       "    <tr>\n",
       "      <th>28</th>\n",
       "      <td>982</td>\n",
       "      <td>21</td>\n",
       "    </tr>\n",
       "    <tr>\n",
       "      <th>29</th>\n",
       "      <td>952</td>\n",
       "      <td>21</td>\n",
       "    </tr>\n",
       "    <tr>\n",
       "      <th>30</th>\n",
       "      <td>955</td>\n",
       "      <td>21</td>\n",
       "    </tr>\n",
       "    <tr>\n",
       "      <th>31</th>\n",
       "      <td>943</td>\n",
       "      <td>21</td>\n",
       "    </tr>\n",
       "    <tr>\n",
       "      <th>32</th>\n",
       "      <td>962</td>\n",
       "      <td>21</td>\n",
       "    </tr>\n",
       "    <tr>\n",
       "      <th>33</th>\n",
       "      <td>976</td>\n",
       "      <td>21</td>\n",
       "    </tr>\n",
       "    <tr>\n",
       "      <th>34</th>\n",
       "      <td>983</td>\n",
       "      <td>21</td>\n",
       "    </tr>\n",
       "    <tr>\n",
       "      <th>35</th>\n",
       "      <td>956</td>\n",
       "      <td>21</td>\n",
       "    </tr>\n",
       "    <tr>\n",
       "      <th>36</th>\n",
       "      <td>953</td>\n",
       "      <td>21</td>\n",
       "    </tr>\n",
       "    <tr>\n",
       "      <th>37</th>\n",
       "      <td>944</td>\n",
       "      <td>21</td>\n",
       "    </tr>\n",
       "    <tr>\n",
       "      <th>38</th>\n",
       "      <td>963</td>\n",
       "      <td>21</td>\n",
       "    </tr>\n",
       "    <tr>\n",
       "      <th>39</th>\n",
       "      <td>968</td>\n",
       "      <td>21</td>\n",
       "    </tr>\n",
       "    <tr>\n",
       "      <th>40</th>\n",
       "      <td>977</td>\n",
       "      <td>21</td>\n",
       "    </tr>\n",
       "    <tr>\n",
       "      <th>41</th>\n",
       "      <td>974</td>\n",
       "      <td>21</td>\n",
       "    </tr>\n",
       "    <tr>\n",
       "      <th>42</th>\n",
       "      <td>974</td>\n",
       "      <td>21</td>\n",
       "    </tr>\n",
       "    <tr>\n",
       "      <th>43</th>\n",
       "      <td>974</td>\n",
       "      <td>21</td>\n",
       "    </tr>\n",
       "    <tr>\n",
       "      <th>44</th>\n",
       "      <td>949</td>\n",
       "      <td>21</td>\n",
       "    </tr>\n",
       "    <tr>\n",
       "      <th>45</th>\n",
       "      <td>958</td>\n",
       "      <td>21</td>\n",
       "    </tr>\n",
       "    <tr>\n",
       "      <th>46</th>\n",
       "      <td>958</td>\n",
       "      <td>21</td>\n",
       "    </tr>\n",
       "    <tr>\n",
       "      <th>47</th>\n",
       "      <td>958</td>\n",
       "      <td>21</td>\n",
       "    </tr>\n",
       "    <tr>\n",
       "      <th>48</th>\n",
       "      <td>945</td>\n",
       "      <td>21</td>\n",
       "    </tr>\n",
       "    <tr>\n",
       "      <th>49</th>\n",
       "      <td>964</td>\n",
       "      <td>21</td>\n",
       "    </tr>\n",
       "    <tr>\n",
       "      <th>50</th>\n",
       "      <td>965</td>\n",
       "      <td>21</td>\n",
       "    </tr>\n",
       "    <tr>\n",
       "      <th>51</th>\n",
       "      <td>969</td>\n",
       "      <td>21</td>\n",
       "    </tr>\n",
       "    <tr>\n",
       "      <th>52</th>\n",
       "      <td>985</td>\n",
       "      <td>21</td>\n",
       "    </tr>\n",
       "    <tr>\n",
       "      <th>53</th>\n",
       "      <td>985</td>\n",
       "      <td>21</td>\n",
       "    </tr>\n",
       "    <tr>\n",
       "      <th>54</th>\n",
       "      <td>985</td>\n",
       "      <td>21</td>\n",
       "    </tr>\n",
       "  </tbody>\n",
       "</table>\n",
       "</div>"
      ],
      "text/plain": [
       "    sample_result_id  fcs_set_id\n",
       "0                978          21\n",
       "1                946          21\n",
       "2                970          21\n",
       "3                966          21\n",
       "4                959          21\n",
       "5                973          21\n",
       "6                973          21\n",
       "7                973          21\n",
       "8                957          21\n",
       "9                957          21\n",
       "10               957          21\n",
       "11               979          21\n",
       "12               947          21\n",
       "13               971          21\n",
       "14               950          21\n",
       "15               967          21\n",
       "16               984          21\n",
       "17               984          21\n",
       "18               984          21\n",
       "19               948          21\n",
       "20               972          21\n",
       "21               960          21\n",
       "22               980          21\n",
       "23               981          21\n",
       "24               954          21\n",
       "25               951          21\n",
       "26               961          21\n",
       "27               975          21\n",
       "28               982          21\n",
       "29               952          21\n",
       "30               955          21\n",
       "31               943          21\n",
       "32               962          21\n",
       "33               976          21\n",
       "34               983          21\n",
       "35               956          21\n",
       "36               953          21\n",
       "37               944          21\n",
       "38               963          21\n",
       "39               968          21\n",
       "40               977          21\n",
       "41               974          21\n",
       "42               974          21\n",
       "43               974          21\n",
       "44               949          21\n",
       "45               958          21\n",
       "46               958          21\n",
       "47               958          21\n",
       "48               945          21\n",
       "49               964          21\n",
       "50               965          21\n",
       "51               969          21\n",
       "52               985          21\n",
       "53               985          21\n",
       "54               985          21"
      ]
     },
     "metadata": {},
     "output_type": "display_data"
    },
    {
     "name": "stdout",
     "output_type": "stream",
     "text": [
      "2024-09-24 16:13:22,725 - WARNING - <class 'shomei.models.GatingPopulationQcv'>:\n"
     ]
    },
    {
     "data": {
      "text/html": [
       "<div>\n",
       "<style scoped>\n",
       "    .dataframe tbody tr th:only-of-type {\n",
       "        vertical-align: middle;\n",
       "    }\n",
       "\n",
       "    .dataframe tbody tr th {\n",
       "        vertical-align: top;\n",
       "    }\n",
       "\n",
       "    .dataframe thead th {\n",
       "        text-align: right;\n",
       "    }\n",
       "</style>\n",
       "<table border=\"1\" class=\"dataframe\">\n",
       "  <thead>\n",
       "    <tr style=\"text-align: right;\">\n",
       "      <th></th>\n",
       "      <th>id</th>\n",
       "      <th>value</th>\n",
       "      <th>raw_value</th>\n",
       "      <th>cofactor</th>\n",
       "      <th>quantile</th>\n",
       "      <th>marker_id</th>\n",
       "      <th>gating_population_id</th>\n",
       "      <th>sample_result_id</th>\n",
       "      <th>cellengine_experiment_revision_id</th>\n",
       "    </tr>\n",
       "  </thead>\n",
       "  <tbody>\n",
       "  </tbody>\n",
       "</table>\n",
       "</div>"
      ],
      "text/plain": [
       "Empty DataFrame\n",
       "Columns: [id, value, raw_value, cofactor, quantile, marker_id, gating_population_id, sample_result_id, cellengine_experiment_revision_id]\n",
       "Index: []"
      ]
     },
     "metadata": {},
     "output_type": "display_data"
    },
    {
     "name": "stdout",
     "output_type": "stream",
     "text": [
      "2024-09-24 16:13:22,883 - WARNING - <class 'shomei.models.GatingPopulationPercent'>:\n"
     ]
    },
    {
     "data": {
      "text/html": [
       "<div>\n",
       "<style scoped>\n",
       "    .dataframe tbody tr th:only-of-type {\n",
       "        vertical-align: middle;\n",
       "    }\n",
       "\n",
       "    .dataframe tbody tr th {\n",
       "        vertical-align: top;\n",
       "    }\n",
       "\n",
       "    .dataframe thead th {\n",
       "        text-align: right;\n",
       "    }\n",
       "</style>\n",
       "<table border=\"1\" class=\"dataframe\">\n",
       "  <thead>\n",
       "    <tr style=\"text-align: right;\">\n",
       "      <th></th>\n",
       "      <th>id</th>\n",
       "      <th>percent</th>\n",
       "      <th>cellengine_experiment_revision_id</th>\n",
       "      <th>sample_result_id</th>\n",
       "      <th>gating_population_id</th>\n",
       "      <th>reference_gating_population_id</th>\n",
       "      <th>reference_population_type</th>\n",
       "    </tr>\n",
       "  </thead>\n",
       "  <tbody>\n",
       "  </tbody>\n",
       "</table>\n",
       "</div>"
      ],
      "text/plain": [
       "Empty DataFrame\n",
       "Columns: [id, percent, cellengine_experiment_revision_id, sample_result_id, gating_population_id, reference_gating_population_id, reference_population_type]\n",
       "Index: []"
      ]
     },
     "metadata": {},
     "output_type": "display_data"
    },
    {
     "name": "stdout",
     "output_type": "stream",
     "text": [
      "2024-09-24 16:13:23,039 - WARNING - <class 'shomei.models.GatingPopulationCount'>:\n"
     ]
    },
    {
     "data": {
      "text/html": [
       "<div>\n",
       "<style scoped>\n",
       "    .dataframe tbody tr th:only-of-type {\n",
       "        vertical-align: middle;\n",
       "    }\n",
       "\n",
       "    .dataframe tbody tr th {\n",
       "        vertical-align: top;\n",
       "    }\n",
       "\n",
       "    .dataframe thead th {\n",
       "        text-align: right;\n",
       "    }\n",
       "</style>\n",
       "<table border=\"1\" class=\"dataframe\">\n",
       "  <thead>\n",
       "    <tr style=\"text-align: right;\">\n",
       "      <th></th>\n",
       "      <th>id</th>\n",
       "      <th>cell_count</th>\n",
       "      <th>is_valid_as_reference</th>\n",
       "      <th>gating_population_id</th>\n",
       "      <th>cellengine_experiment_revision_id</th>\n",
       "      <th>sample_result_id</th>\n",
       "    </tr>\n",
       "  </thead>\n",
       "  <tbody>\n",
       "  </tbody>\n",
       "</table>\n",
       "</div>"
      ],
      "text/plain": [
       "Empty DataFrame\n",
       "Columns: [id, cell_count, is_valid_as_reference, gating_population_id, cellengine_experiment_revision_id, sample_result_id]\n",
       "Index: []"
      ]
     },
     "metadata": {},
     "output_type": "display_data"
    },
    {
     "name": "stdout",
     "output_type": "stream",
     "text": [
      "2024-09-24 16:13:23,193 - WARNING - <class 'shomei.models.GatingPopulation'>:\n"
     ]
    },
    {
     "data": {
      "text/html": [
       "<div>\n",
       "<style scoped>\n",
       "    .dataframe tbody tr th:only-of-type {\n",
       "        vertical-align: middle;\n",
       "    }\n",
       "\n",
       "    .dataframe tbody tr th {\n",
       "        vertical-align: top;\n",
       "    }\n",
       "\n",
       "    .dataframe thead th {\n",
       "        text-align: right;\n",
       "    }\n",
       "</style>\n",
       "<table border=\"1\" class=\"dataframe\">\n",
       "  <thead>\n",
       "    <tr style=\"text-align: right;\">\n",
       "      <th></th>\n",
       "      <th>id</th>\n",
       "      <th>name</th>\n",
       "      <th>is_state</th>\n",
       "      <th>is_terminal</th>\n",
       "      <th>is_cleaning_gate</th>\n",
       "      <th>display_name</th>\n",
       "      <th>included_in_barchart</th>\n",
       "      <th>description</th>\n",
       "      <th>branch_markers</th>\n",
       "      <th>parent_population_id</th>\n",
       "      <th>gating_population_group_id</th>\n",
       "      <th>population_tree_id</th>\n",
       "    </tr>\n",
       "  </thead>\n",
       "  <tbody>\n",
       "  </tbody>\n",
       "</table>\n",
       "</div>"
      ],
      "text/plain": [
       "Empty DataFrame\n",
       "Columns: [id, name, is_state, is_terminal, is_cleaning_gate, display_name, included_in_barchart, description, branch_markers, parent_population_id, gating_population_group_id, population_tree_id]\n",
       "Index: []"
      ]
     },
     "metadata": {},
     "output_type": "display_data"
    },
    {
     "name": "stdout",
     "output_type": "stream",
     "text": [
      "2024-09-24 16:13:23,347 - WARNING - <class 'shomei.models.CellengineExperimentRevision'>:\n"
     ]
    },
    {
     "data": {
      "text/html": [
       "<div>\n",
       "<style scoped>\n",
       "    .dataframe tbody tr th:only-of-type {\n",
       "        vertical-align: middle;\n",
       "    }\n",
       "\n",
       "    .dataframe tbody tr th {\n",
       "        vertical-align: top;\n",
       "    }\n",
       "\n",
       "    .dataframe thead th {\n",
       "        text-align: right;\n",
       "    }\n",
       "</style>\n",
       "<table border=\"1\" class=\"dataframe\">\n",
       "  <thead>\n",
       "    <tr style=\"text-align: right;\">\n",
       "      <th></th>\n",
       "      <th>id</th>\n",
       "      <th>fcs_set_id</th>\n",
       "      <th>cellengine_revision_id</th>\n",
       "      <th>is_prod</th>\n",
       "    </tr>\n",
       "  </thead>\n",
       "  <tbody>\n",
       "  </tbody>\n",
       "</table>\n",
       "</div>"
      ],
      "text/plain": [
       "Empty DataFrame\n",
       "Columns: [id, fcs_set_id, cellengine_revision_id, is_prod]\n",
       "Index: []"
      ]
     },
     "metadata": {},
     "output_type": "display_data"
    },
    {
     "name": "stdout",
     "output_type": "stream",
     "text": [
      "2024-09-24 16:13:23,498 - WARNING - <class 'shomei.models.FcsSet'>:\n"
     ]
    },
    {
     "data": {
      "text/html": [
       "<div>\n",
       "<style scoped>\n",
       "    .dataframe tbody tr th:only-of-type {\n",
       "        vertical-align: middle;\n",
       "    }\n",
       "\n",
       "    .dataframe tbody tr th {\n",
       "        vertical-align: top;\n",
       "    }\n",
       "\n",
       "    .dataframe thead th {\n",
       "        text-align: right;\n",
       "    }\n",
       "</style>\n",
       "<table border=\"1\" class=\"dataframe\">\n",
       "  <thead>\n",
       "    <tr style=\"text-align: right;\">\n",
       "      <th></th>\n",
       "      <th>id</th>\n",
       "      <th>s3_prefix</th>\n",
       "      <th>cellengine_experiment_id</th>\n",
       "      <th>is_prod</th>\n",
       "    </tr>\n",
       "  </thead>\n",
       "  <tbody>\n",
       "    <tr>\n",
       "      <th>0</th>\n",
       "      <td>21</td>\n",
       "      <td>s3://tokuprofile-teiko/biopharma/TST002/fcs/v03/</td>\n",
       "      <td>66f33549ce1e67f5c5a59e5c</td>\n",
       "      <td>True</td>\n",
       "    </tr>\n",
       "  </tbody>\n",
       "</table>\n",
       "</div>"
      ],
      "text/plain": [
       "   id                                         s3_prefix  \\\n",
       "0  21  s3://tokuprofile-teiko/biopharma/TST002/fcs/v03/   \n",
       "\n",
       "   cellengine_experiment_id  is_prod  \n",
       "0  66f33549ce1e67f5c5a59e5c     True  "
      ]
     },
     "metadata": {},
     "output_type": "display_data"
    }
   ],
   "source": [
    "rollback.to_delete_validator()"
   ]
  },
  {
   "cell_type": "code",
   "execution_count": 11,
   "metadata": {},
   "outputs": [
    {
     "name": "stdout",
     "output_type": "stream",
     "text": [
      "2024-09-24 16:14:01,252 - WARNING - Deleting the data for the gating statistics tables\n",
      "2024-09-24 16:14:01,253 - WARNING - Deleting <class 'shomei.models.GatingPopulationQcv'>\n",
      "2024-09-24 16:14:01,279 - WARNING - Deleting <class 'shomei.models.GatingPopulationPercent'>\n",
      "2024-09-24 16:14:01,304 - WARNING - Deleting <class 'shomei.models.GatingPopulationCount'>\n",
      "2024-09-24 16:14:01,329 - WARNING - Deleting <class 'shomei.models.GatingPopulation'>\n",
      "2024-09-24 16:14:01,354 - WARNING - Deleting <class 'shomei.models.CellengineExperimentRevision'>\n",
      "2024-09-24 16:14:01,379 - WARNING - Deleting <class 'shomei.models.FcsSet'>\n"
     ]
    }
   ],
   "source": [
    "rollback.deletion_prep()"
   ]
  },
  {
   "cell_type": "code",
   "execution_count": 12,
   "metadata": {},
   "outputs": [
    {
     "name": "stdout",
     "output_type": "stream",
     "text": [
      "2024-09-24 16:14:07,212 - WARNING - Operation completed\n"
     ]
    }
   ],
   "source": [
    "rollback.commit_delete()"
   ]
  },
  {
   "cell_type": "markdown",
   "metadata": {},
   "source": [
    "# Project Initialization"
   ]
  },
  {
   "cell_type": "code",
   "execution_count": 3,
   "metadata": {},
   "outputs": [
    {
     "name": "stdout",
     "output_type": "stream",
     "text": [
      "2024-09-27 12:16:38,881 - INFO - Reading Benchling api_key from BENCHLING_API_KEY env\n"
     ]
    }
   ],
   "source": [
    "from shomei.console.initialize_project import ProjectInitializer\n",
    "from dotenv import load_dotenv\n",
    "from shomei.models import SessionLocal\n",
    "load_dotenv()\n",
    "import os\n",
    "\n",
    "db_session = SessionLocal()\n",
    "project_code = \"TST002\""
   ]
  },
  {
   "cell_type": "code",
   "execution_count": 4,
   "metadata": {},
   "outputs": [
    {
     "name": "stdout",
     "output_type": "stream",
     "text": [
      "2024-09-27 12:16:42,086 - INFO - S3_BUCKET env OK\n"
     ]
    }
   ],
   "source": [
    "project_initializer = ProjectInitializer(\n",
    "    db_session=SessionLocal(),\n",
    "    project_type = \"biopharma\",\n",
    "    project_code = project_code,\n",
    "    project_groupings=[],\n",
    "    experiment_type='cytof',\n",
    "    baseline_column=None,\n",
    "    default_baseline_value=None,\n",
    "    barcodes_stratification_cols=[\"properties.dose\"],\n",
    "    n_slots_per_plate=16,\n",
    "    barcodes_max_n_repetitions=200,\n",
    "    skip_benchling=False,\n",
    "    skip_barcoding=True,\n",
    "    overwrite_local_files_if_exists=False,\n",
    "    recreate_barcodes_if_exists=False,\n",
    "    workdir = f\"./\",\n",
    "    dry_run=False,\n",
    "    skip_s3_upload=False,\n",
    ")"
   ]
  },
  {
   "cell_type": "code",
   "execution_count": 3,
   "metadata": {},
   "outputs": [
    {
     "name": "stdout",
     "output_type": "stream",
     "text": [
      "2024-09-24 15:51:09,251 - INFO - Local file TST002/metadata/TST002_sample.csv already exists. Skipping download\n",
      "2024-09-24 15:51:09,252 - INFO - Local file TST002/metadata/TST002_subject.csv already exists. Skipping download\n",
      "2024-09-24 15:51:09,253 - INFO - adverse_event does not exist locally, downloading from S3\n",
      "2024-09-24 15:51:09,253 - INFO - Downloading s3://tokuprofile-teiko/biopharma/TST002/metadata/TST002_adverse_event.csv to TST002/metadata/TST002_adverse_event.csv\n",
      "2024-09-24 15:51:09,262 - INFO - Found credentials in environment variables.\n",
      "2024-09-24 15:51:09,515 - INFO - s3://tokuprofile-teiko/biopharma/TST002/metadata/TST002_adverse_event.csv does not exist (not required; proceeding)\n",
      "2024-09-24 15:51:09,516 - INFO - subject_response does not exist locally, downloading from S3\n",
      "2024-09-24 15:51:09,516 - INFO - Downloading s3://tokuprofile-teiko/biopharma/TST002/metadata/TST002_subject_response.csv to TST002/metadata/TST002_subject_response.csv\n",
      "2024-09-24 15:51:09,558 - INFO - s3://tokuprofile-teiko/biopharma/TST002/metadata/TST002_subject_response.csv does not exist (not required; proceeding)\n",
      "2024-09-24 15:51:09,559 - INFO - Local file TST002/barcodes/TST002_barcodes.csv already exists. Skipping download\n",
      "2024-09-24 15:51:09,560 - INFO - barcodes_qc does not exist locally, downloading from S3\n",
      "2024-09-24 15:51:09,560 - INFO - Downloading s3://tokuprofile-teiko/biopharma/TST002/barcodes/TST002_barcodes_qc.html to TST002/barcodes/TST002_barcodes_qc.html\n",
      "2024-09-24 15:51:09,599 - INFO - s3://tokuprofile-teiko/biopharma/TST002/barcodes/TST002_barcodes_qc.html does not exist (not required; proceeding)\n",
      "2024-09-24 15:51:09,599 - INFO - barcodes_interim does not exist locally, downloading from S3\n",
      "2024-09-24 15:51:09,600 - INFO - Downloading s3://tokuprofile-teiko/biopharma/TST002/barcodes/TST002_barcodes.allcols.csv to TST002/barcodes/TST002_barcodes.allcols.csv\n",
      "2024-09-24 15:51:09,638 - INFO - s3://tokuprofile-teiko/biopharma/TST002/barcodes/TST002_barcodes.allcols.csv does not exist (not required; proceeding)\n",
      "2024-09-24 15:51:09,639 - INFO - Finalized barcodes file TST002/barcodes/TST002_barcodes.csv exists. Proceeding with loading metadata to db.\n",
      "2024-09-24 15:51:09,652 - INFO - Validating samples barcodes csv (/Users/leeleavitt/Projects/20240919_dojigiri/TST002/barcodes/TST002_barcodes.csv)\n",
      "2024-09-24 15:51:10,424 - INFO - Extra columns found in subject metadata: dict_keys(['dose']). Adding them to the properties column.\n",
      "2024-09-24 15:51:10,425 - INFO - Getting id for Custom Entity table: 'Project Code' providing {'name': 'TST002'} parameters.\n",
      "2024-09-24 15:51:10,425 - INFO - Calling _custom_entities_page in benchling_sdk.services.v2.stable.custom_entity_service\n",
      "2024-09-24 15:51:11,746 - INFO - HTTP Request: GET https://teikobio.benchling.com/api/v2/custom-entities?nextToken=&name=TST002&schemaId=ts_R1OkMSpC \"HTTP/1.1 200 OK\"\n",
      "2024-09-24 15:51:11,747 - INFO - Status: 200\n",
      "2024-09-24 15:51:11,748 - INFO - Status: 200\n",
      "2024-09-24 15:51:11,748 - WARNING - Project TST002 not found in Benchling\n",
      "2024-09-24 15:51:11,817 - INFO - Getting id for Custom Entity table: 'Project Code' providing {'name': 'TST002'} parameters.\n",
      "2024-09-24 15:51:11,817 - INFO - Calling _custom_entities_page in benchling_sdk.services.v2.stable.custom_entity_service\n",
      "2024-09-24 15:51:12,428 - INFO - HTTP Request: GET https://teikobio.benchling.com/api/v2/custom-entities?nextToken=&name=TST002&schemaId=ts_R1OkMSpC \"HTTP/1.1 200 OK\"\n",
      "2024-09-24 15:51:12,431 - INFO - Status: 200\n",
      "2024-09-24 15:51:12,432 - INFO - Status: 200\n",
      "2024-09-24 15:51:12,433 - WARNING - Project TST002 not found in Benchling\n",
      "2024-09-24 15:51:18,927 - INFO - Committing changes to the database\n",
      "2024-09-24 15:51:18,954 - INFO - Uploading TST002/barcodes/TST002_barcodes.csv to s3://tokuprofile-teiko/biopharma/TST002/barcodes/TST002_barcodes.csv\n",
      "2024-09-24 15:51:19,114 - INFO - Uploading TST002/metadata/TST002_sample.csv to s3://tokuprofile-teiko/biopharma/TST002/metadata/TST002_sample.csv\n",
      "2024-09-24 15:51:19,191 - INFO - Uploading TST002/metadata/TST002_subject.csv to s3://tokuprofile-teiko/biopharma/TST002/metadata/TST002_subject.csv\n"
     ]
    },
    {
     "ename": "TypeError",
     "evalue": "stat: path should be string, bytes, os.PathLike or integer, not NoneType",
     "output_type": "error",
     "traceback": [
      "\u001b[0;31m---------------------------------------------------------------------------\u001b[0m",
      "\u001b[0;31mTypeError\u001b[0m                                 Traceback (most recent call last)",
      "Cell \u001b[0;32mIn[3], line 1\u001b[0m\n\u001b[0;32m----> 1\u001b[0m \u001b[43mproject_initializer\u001b[49m\u001b[38;5;241;43m.\u001b[39;49m\u001b[43mrun_load_metadata\u001b[49m\u001b[43m(\u001b[49m\u001b[43m)\u001b[49m\n",
      "File \u001b[0;32m~/git/shomei/services/backend/shomei/console/initialize_project.py:605\u001b[0m, in \u001b[0;36mProjectInitializer.run_load_metadata\u001b[0;34m(self)\u001b[0m\n\u001b[1;32m    603\u001b[0m \u001b[38;5;28mself\u001b[39m\u001b[38;5;241m.\u001b[39m_load_metadata()\n\u001b[1;32m    604\u001b[0m \u001b[38;5;28mself\u001b[39m\u001b[38;5;241m.\u001b[39m_upload_barcodes_to_s3()\n\u001b[0;32m--> 605\u001b[0m \u001b[38;5;28;43mself\u001b[39;49m\u001b[38;5;241;43m.\u001b[39;49m\u001b[43m_upload_metadata_to_s3\u001b[49m\u001b[43m(\u001b[49m\u001b[43m)\u001b[49m\n",
      "File \u001b[0;32m~/git/shomei/services/backend/shomei/console/initialize_project.py:577\u001b[0m, in \u001b[0;36mProjectInitializer._upload_metadata_to_s3\u001b[0;34m(self)\u001b[0m\n\u001b[1;32m    574\u001b[0m     \u001b[38;5;28;01mreturn\u001b[39;00m\n\u001b[1;32m    576\u001b[0m \u001b[38;5;28;01mfor\u001b[39;00m file_type \u001b[38;5;129;01min\u001b[39;00m [\u001b[38;5;124m\"\u001b[39m\u001b[38;5;124msample\u001b[39m\u001b[38;5;124m\"\u001b[39m, \u001b[38;5;124m\"\u001b[39m\u001b[38;5;124msubject\u001b[39m\u001b[38;5;124m\"\u001b[39m, \u001b[38;5;124m\"\u001b[39m\u001b[38;5;124madverse_event\u001b[39m\u001b[38;5;124m\"\u001b[39m, \u001b[38;5;124m\"\u001b[39m\u001b[38;5;124msubject_response\u001b[39m\u001b[38;5;124m\"\u001b[39m]:\n\u001b[0;32m--> 577\u001b[0m     \u001b[38;5;28;01mif\u001b[39;00m \u001b[43mos\u001b[49m\u001b[38;5;241;43m.\u001b[39;49m\u001b[43mpath\u001b[49m\u001b[38;5;241;43m.\u001b[39;49m\u001b[43mexists\u001b[49m\u001b[43m(\u001b[49m\u001b[38;5;28;43mself\u001b[39;49m\u001b[38;5;241;43m.\u001b[39;49m\u001b[43mfiles\u001b[49m\u001b[43m[\u001b[49m\u001b[43mfile_type\u001b[49m\u001b[43m]\u001b[49m\u001b[38;5;241;43m.\u001b[39;49m\u001b[43mlocal_path\u001b[49m\u001b[43m)\u001b[49m:\n\u001b[1;32m    578\u001b[0m         \u001b[38;5;28mself\u001b[39m\u001b[38;5;241m.\u001b[39mfiles[file_type]\u001b[38;5;241m.\u001b[39mdont_upload \u001b[38;5;241m=\u001b[39m \u001b[38;5;28;01mFalse\u001b[39;00m\n\u001b[1;32m    579\u001b[0m     \u001b[38;5;28mself\u001b[39m\u001b[38;5;241m.\u001b[39mfiles[file_type]\u001b[38;5;241m.\u001b[39mupload_to_s3()\n",
      "File \u001b[0;32m~/Projects/20240919_dojigiri/.venv/lib/python3.9/genericpath.py:19\u001b[0m, in \u001b[0;36mexists\u001b[0;34m(path)\u001b[0m\n\u001b[1;32m     17\u001b[0m \u001b[38;5;250m\u001b[39m\u001b[38;5;124;03m\"\"\"Test whether a path exists.  Returns False for broken symbolic links\"\"\"\u001b[39;00m\n\u001b[1;32m     18\u001b[0m \u001b[38;5;28;01mtry\u001b[39;00m:\n\u001b[0;32m---> 19\u001b[0m     \u001b[43mos\u001b[49m\u001b[38;5;241;43m.\u001b[39;49m\u001b[43mstat\u001b[49m\u001b[43m(\u001b[49m\u001b[43mpath\u001b[49m\u001b[43m)\u001b[49m\n\u001b[1;32m     20\u001b[0m \u001b[38;5;28;01mexcept\u001b[39;00m (\u001b[38;5;167;01mOSError\u001b[39;00m, \u001b[38;5;167;01mValueError\u001b[39;00m):\n\u001b[1;32m     21\u001b[0m     \u001b[38;5;28;01mreturn\u001b[39;00m \u001b[38;5;28;01mFalse\u001b[39;00m\n",
      "\u001b[0;31mTypeError\u001b[0m: stat: path should be string, bytes, os.PathLike or integer, not NoneType"
     ]
    }
   ],
   "source": [
    "project_initializer.run_load_metadata()"
   ]
  },
  {
   "cell_type": "code",
   "execution_count": 5,
   "metadata": {},
   "outputs": [
    {
     "name": "stdout",
     "output_type": "stream",
     "text": [
      "2024-09-27 12:16:50,186 - INFO - Uploading TST002/barcodes/TST002_barcodes.csv to s3://tokuprofile-teiko/biopharma/TST002/barcodes/TST002_barcodes.csv\n",
      "2024-09-27 12:16:50,195 - INFO - Found credentials in environment variables.\n",
      "2024-09-27 12:16:50,495 - INFO - Uploading TST002/metadata/TST002_sample.csv to s3://tokuprofile-teiko/biopharma/TST002/metadata/TST002_sample.csv\n",
      "2024-09-27 12:16:50,576 - INFO - Uploading TST002/metadata/TST002_subject.csv to s3://tokuprofile-teiko/biopharma/TST002/metadata/TST002_subject.csv\n"
     ]
    }
   ],
   "source": [
    "project_initializer._upload_barcodes_to_s3()\n",
    "project_initializer._upload_metadata_to_s3()"
   ]
  },
  {
   "cell_type": "code",
   "execution_count": 22,
   "metadata": {},
   "outputs": [
    {
     "data": {
      "text/plain": [
       "'s3:/tokuprofile-teiko/biopharma/TST001/fcs/v03/concatenated_fcs'"
      ]
     },
     "execution_count": 22,
     "metadata": {},
     "output_type": "execute_result"
    }
   ],
   "source": [
    "from pathlib import Path\n",
    "str(Path(project_initializer.project_s3_uri) / \"fcs\" / \"v03\" / \"concatenated_fcs\")"
   ]
  },
  {
   "cell_type": "code",
   "execution_count": 2,
   "metadata": {},
   "outputs": [
    {
     "name": "stdout",
     "output_type": "stream",
     "text": [
      "2024-09-24 16:11:17,329 - INFO - Found credentials in environment variables.\n"
     ]
    }
   ],
   "source": [
    "from shomei.utils import copy_s3_uri_to_s3_uri\n",
    "\n",
    "copy_s3_uri_to_s3_uri(\n",
    "    's3://tokuprofile-teiko/biopharma/AXA003/fcs/v03/concatenated_fcs',\n",
    "    f's3://tokuprofile-teiko/biopharma/{project_code}/fcs/v04/concatenated_fcs'\n",
    ")"
   ]
  },
  {
   "cell_type": "markdown",
   "metadata": {},
   "source": [
    "# Gating Prep"
   ]
  },
  {
   "cell_type": "code",
   "execution_count": 13,
   "metadata": {},
   "outputs": [
    {
     "name": "stdout",
     "output_type": "stream",
     "text": [
      "The autoreload extension is already loaded. To reload it, use:\n",
      "  %reload_ext autoreload\n"
     ]
    }
   ],
   "source": [
    "%load_ext autoreload\n",
    "%autoreload 2\n",
    "from dotenv import load_dotenv\n",
    "load_dotenv()\n",
    "from shomei.models import SessionLocal\n",
    "db_session = SessionLocal()"
   ]
  },
  {
   "cell_type": "code",
   "execution_count": 14,
   "metadata": {},
   "outputs": [
    {
     "name": "stdout",
     "output_type": "stream",
     "text": [
      "2024-09-24 16:14:16,629 - INFO - Expected input FCS key: debarcoded_beads_normalized_fcs\n",
      "2024-09-24 16:14:16,629 - INFO - Skip normalization: True\n",
      "2024-09-24 16:14:16,630 - INFO - Exclude samples: None\n",
      "2024-09-24 16:14:16,630 - INFO - Control sample name: AXA003BlendCTRL\n",
      "2024-09-24 16:14:16,630 - INFO - Validation sample name: AXA003UnstimCTRL\n",
      "2024-09-24 16:14:16,631 - INFO - Number of events for CytoNorm: 10000000\n",
      "2024-09-24 16:14:16,631 - INFO - Number of events for FPG: 10000000\n",
      "2024-09-24 16:14:16,631 - INFO - Look for CytoNorm coclustering outputs: True\n",
      "2024-09-24 16:14:16,632 - INFO - Look for FPG outputs: True\n",
      "2024-09-24 16:14:16,632 - INFO - Comparison report: True\n",
      "2024-09-24 16:14:16,632 - INFO - Clean FCS: True\n",
      "2024-09-24 16:14:16,633 - INFO - Workdir: gating_prep_tmp/\n"
     ]
    }
   ],
   "source": [
    "from shomei.console.gating_prep import GatingPrep\n",
    "\n",
    "gating_prep = GatingPrep(\n",
    "    db_session=db_session,\n",
    "    project_code=\"TST002\",\n",
    "    fcs_set_version=\"v04\",\n",
    "    experiment_type=\"cytof\",\n",
    "    description=\"HumanWB\",\n",
    "    skip_normalization=True\n",
    ")\n"
   ]
  },
  {
   "cell_type": "code",
   "execution_count": 15,
   "metadata": {},
   "outputs": [
    {
     "name": "stdout",
     "output_type": "stream",
     "text": [
      "2024-09-24 16:14:19,565 - INFO - S3_BUCKET env OK\n",
      "2024-09-24 16:14:19,566 - INFO - Bucket: tokuprofile-teiko\n",
      "2024-09-24 16:14:19,973 - INFO - No normalization. Input FCS files are not required.\n",
      "2024-09-24 16:14:19,974 - INFO - Project FCS S3 URI: s3://tokuprofile-teiko/biopharma/TST002/fcs/v04/\n",
      "2024-09-24 16:14:19,989 - INFO - Found credentials in environment variables.\n",
      "2024-09-24 16:14:20,259 - INFO - CellEngine experiment name: TST002_HumanWB_v04_latest\n"
     ]
    }
   ],
   "source": [
    "gating_prep.initialize() "
   ]
  },
  {
   "cell_type": "code",
   "execution_count": 16,
   "metadata": {},
   "outputs": [
    {
     "name": "stdout",
     "output_type": "stream",
     "text": [
      "2024-09-24 16:14:23,455 - INFO - Registering FCS set in Shomei\n",
      "2024-09-24 16:14:23,455 - INFO - Reading TST002 samples' barcodes from Shomei DB\n",
      "2024-09-24 16:14:24,595 - INFO - Got 43 batch_id, well_id pairs in Shomei DB for TST002\n",
      "2024-09-24 16:14:24,596 - INFO - Reading s3://tokuprofile-teiko/biopharma/TST002/fcs/v04/concatenated_fcs/\n",
      "2024-09-24 16:14:24,608 - INFO - Found credentials in environment variables.\n",
      "2024-09-24 16:14:24,802 - INFO - Got 43 fcs files from s3://tokuprofile-teiko/biopharma/TST002/fcs/v04/concatenated_fcs/\n",
      "2024-09-24 16:14:24,803 - INFO - Validating if every fcs file can be mapped to a database sample\n",
      "2024-09-24 16:14:24,803 - INFO - Validating if every database sample has at least one aliquot fcs in s3://tokuprofile-teiko/biopharma/TST002/fcs/v04/concatenated_fcs/\n",
      "2024-09-24 16:14:24,858 - INFO - Cellengine path where the experiment will be created: ['6078b8b7396ead440ecdc88e', '66f33549b2658aeddb9323a7']\n",
      "2024-09-24 16:14:25,066 - INFO - Experiment with the name TST002_HumanWB_v04_latest already exists in cellengine under cell engine path biopharma/TST002. Skipping experiment creation.\n"
     ]
    }
   ],
   "source": [
    "gating_prep.finalize()"
   ]
  },
  {
   "cell_type": "markdown",
   "metadata": {},
   "source": [
    "# Gating Statistics"
   ]
  },
  {
   "cell_type": "code",
   "execution_count": null,
   "metadata": {},
   "outputs": [],
   "source": []
  },
  {
   "cell_type": "code",
   "execution_count": 19,
   "metadata": {},
   "outputs": [
    {
     "name": "stdout",
     "output_type": "stream",
     "text": [
      "The autoreload extension is already loaded. To reload it, use:\n",
      "  %reload_ext autoreload\n",
      "2024-09-24 16:16:36,870 - INFO - Found credentials in environment variables.\n",
      "2024-09-24 16:16:37,435 - INFO - Cellengine path where the experiment will be created: ['6078b8b7396ead440ecdc88e', '66f33549b2658aeddb9323a7']\n",
      "2024-09-24 16:16:37,613 - INFO - Experiment with the name TST002_HumanWB_v04_latest already exists in cellengine under cell engine path biopharma/TST002. Skipping experiment creation.\n"
     ]
    }
   ],
   "source": [
    "%load_ext autoreload\n",
    "%autoreload 2\n",
    "from dotenv import load_dotenv\n",
    "load_dotenv()\n",
    "from shomei.models import SessionLocal\n",
    "db_session = SessionLocal()\n",
    "\n",
    "project_type = \"biopharma\"\n",
    "project_code = \"TST002\"\n",
    "description = \"HumanWB\"\n",
    "fcs_set_version = \"v04\"\n",
    "from shomei.cellengine_client import Experiment, CELLENGINE_EXPERIMENT_SUFFIX\n",
    "from pathlib import Path\n",
    "\n",
    "\n",
    "\n",
    "experiment_name = (\n",
    "    f\"{project_code}_{description}_{fcs_set_version}\"\n",
    "    + CELLENGINE_EXPERIMENT_SUFFIX\n",
    ")\n",
    "cellengine_path = f\"{project_type}/{project_code}\"\n",
    "\n",
    "experiment = Experiment(\n",
    "    experiment_name=experiment_name,\n",
    "    cellengine_path=cellengine_path,\n",
    ")\n",
    "\n",
    "experiment.create(skip_creating_if_exists=True)\n"
   ]
  },
  {
   "cell_type": "code",
   "execution_count": 22,
   "metadata": {},
   "outputs": [
    {
     "name": "stdout",
     "output_type": "stream",
     "text": [
      "2024-09-24 16:17:47,950 - INFO - Getting latest experiment revision id for experiment 66f3372d2c090e44e8663b43\n",
      "2024-09-24 16:17:48,019 - INFO - Found credentials in environment variables.\n",
      "2024-09-24 16:17:48,247 - INFO - Checking if experiment 66f3375057d2a59bbbc657db is a child of experiment 66f3372d2c090e44e8663b43\n",
      "2024-09-24 16:17:48,260 - INFO - Found credentials in environment variables.\n",
      "2024-09-24 16:17:48,468 - INFO - Checking if experiment 66f3375057d2a59bbbc657db is a child of experiment 66f3372d2c090e44e8663b43\n",
      "2024-09-24 16:17:48,536 - INFO - Found credentials in environment variables.\n",
      "2024-09-24 16:17:49,754 - INFO - Found credentials in environment variables.\n",
      "2024-09-24 16:17:50,032 - INFO - Downloading gating-ml file with fcs-based gates (AXA003_P01_Pop01.fcs)\n",
      "2024-09-24 16:17:50,436 - INFO - Downloading gating-ml file with fcs-based gates (AXA003_P01_Pop02.fcs)\n",
      "2024-09-24 16:17:50,770 - INFO - Downloading gating-ml file with fcs-based gates (AXA003_P01_Pop03.fcs)\n",
      "2024-09-24 16:17:51,067 - INFO - Downloading gating-ml file with fcs-based gates (AXA003_P01_Pop04.fcs)\n",
      "2024-09-24 16:17:51,385 - INFO - Downloading gating-ml file with fcs-based gates (AXA003_P01_Pop05.fcs)\n",
      "2024-09-24 16:17:51,721 - INFO - Downloading gating-ml file with fcs-based gates (AXA003_P01_Pop06.fcs)\n",
      "2024-09-24 16:17:52,009 - INFO - Downloading gating-ml file with fcs-based gates (AXA003_P01_Pop07.fcs)\n",
      "2024-09-24 16:17:52,307 - INFO - Downloading gating-ml file with fcs-based gates (AXA003_P01_Pop08.fcs)\n",
      "2024-09-24 16:17:52,648 - INFO - Downloading gating-ml file with fcs-based gates (AXA003_P01_Pop09.fcs)\n",
      "2024-09-24 16:17:52,925 - INFO - Downloading gating-ml file with fcs-based gates (AXA003_P01_Pop10.fcs)\n",
      "2024-09-24 16:17:53,211 - INFO - Downloading gating-ml file with fcs-based gates (AXA003_P01_Pop11.fcs)\n",
      "2024-09-24 16:17:53,492 - INFO - Downloading gating-ml file with fcs-based gates (AXA003_P01_Pop12.fcs)\n",
      "2024-09-24 16:17:53,807 - INFO - Downloading gating-ml file with fcs-based gates (AXA003_P01_Pop13.fcs)\n",
      "2024-09-24 16:17:54,098 - INFO - Downloading gating-ml file with fcs-based gates (AXA003_P01_Pop14.fcs)\n",
      "2024-09-24 16:17:54,375 - INFO - Downloading gating-ml file with fcs-based gates (AXA003_P01_Pop15.fcs)\n",
      "2024-09-24 16:17:54,659 - INFO - Downloading gating-ml file with fcs-based gates (AXA003_P01_Pop16.fcs)\n",
      "2024-09-24 16:17:54,929 - INFO - Downloading gating-ml file with fcs-based gates (AXA003_P02_Pop01.fcs)\n",
      "2024-09-24 16:17:55,252 - INFO - Downloading gating-ml file with fcs-based gates (AXA003_P02_Pop02.fcs)\n",
      "2024-09-24 16:17:55,535 - INFO - Downloading gating-ml file with fcs-based gates (AXA003_P02_Pop03.fcs)\n",
      "2024-09-24 16:17:55,810 - INFO - Downloading gating-ml file with fcs-based gates (AXA003_P02_Pop04.fcs)\n",
      "2024-09-24 16:17:56,099 - INFO - Downloading gating-ml file with fcs-based gates (AXA003_P02_Pop05.fcs)\n",
      "2024-09-24 16:17:56,376 - INFO - Downloading gating-ml file with fcs-based gates (AXA003_P02_Pop06.fcs)\n",
      "2024-09-24 16:17:56,665 - INFO - Downloading gating-ml file with fcs-based gates (AXA003_P02_Pop07.fcs)\n",
      "2024-09-24 16:17:56,932 - INFO - Downloading gating-ml file with fcs-based gates (AXA003_P02_Pop08.fcs)\n",
      "2024-09-24 16:17:57,216 - INFO - Downloading gating-ml file with fcs-based gates (AXA003_P02_Pop09.fcs)\n",
      "2024-09-24 16:17:57,563 - INFO - Downloading gating-ml file with fcs-based gates (AXA003_P02_Pop10.fcs)\n",
      "2024-09-24 16:17:57,914 - INFO - Downloading gating-ml file with fcs-based gates (AXA003_P02_Pop11.fcs)\n",
      "2024-09-24 16:17:58,211 - INFO - Downloading gating-ml file with fcs-based gates (AXA003_P02_Pop12.fcs)\n",
      "2024-09-24 16:17:58,516 - INFO - Downloading gating-ml file with fcs-based gates (AXA003_P02_Pop13.fcs)\n",
      "2024-09-24 16:17:58,800 - INFO - Downloading gating-ml file with fcs-based gates (AXA003_P02_Pop14.fcs)\n",
      "2024-09-24 16:17:59,074 - INFO - Downloading gating-ml file with fcs-based gates (AXA003_P02_Pop15.fcs)\n",
      "2024-09-24 16:17:59,353 - INFO - Downloading gating-ml file with fcs-based gates (AXA003_P02_Pop16.fcs)\n",
      "2024-09-24 16:17:59,623 - INFO - Downloading gating-ml file with fcs-based gates (AXA003_P03_Pop05.fcs)\n",
      "2024-09-24 16:17:59,902 - INFO - Downloading gating-ml file with fcs-based gates (AXA003_P03_Pop06.fcs)\n",
      "2024-09-24 16:18:00,220 - INFO - Downloading gating-ml file with fcs-based gates (AXA003_P03_Pop07.fcs)\n",
      "2024-09-24 16:18:00,547 - INFO - Downloading gating-ml file with fcs-based gates (AXA003_P03_Pop08.fcs)\n",
      "2024-09-24 16:18:00,821 - INFO - Downloading gating-ml file with fcs-based gates (AXA003_P03_Pop09.fcs)\n",
      "2024-09-24 16:18:01,104 - INFO - Downloading gating-ml file with fcs-based gates (AXA003_P03_Pop10.fcs)\n",
      "2024-09-24 16:18:01,385 - INFO - Downloading gating-ml file with fcs-based gates (AXA003_P03_Pop11.fcs)\n",
      "2024-09-24 16:18:01,662 - INFO - Downloading gating-ml file with fcs-based gates (AXA003_P03_Pop12.fcs)\n",
      "2024-09-24 16:18:01,938 - INFO - Downloading gating-ml file with fcs-based gates (AXA003_P03_Pop13.fcs)\n",
      "2024-09-24 16:18:02,221 - INFO - Downloading gating-ml file with fcs-based gates (AXA003_P03_Pop15.fcs)\n",
      "2024-09-24 16:18:02,483 - INFO - Downloading gating-ml file with fcs-based gates (AXA003_P03_Pop16.fcs)\n",
      "2024-09-24 16:18:02,766 - INFO - Downloading gating-ml file for global gates\n",
      "2024-09-24 16:18:03,038 - INFO - Saving s3://tokuprofile-teiko/biopharma/TST002/fcs/v04/gating_ml/AXA003_P01_Pop01.gatingml to the database as gating_ml\n",
      "2024-09-24 16:18:03,095 - INFO - Saving s3://tokuprofile-teiko/biopharma/TST002/fcs/v04/gating_ml/AXA003_P01_Pop02.gatingml to the database as gating_ml\n",
      "2024-09-24 16:18:03,148 - INFO - Saving s3://tokuprofile-teiko/biopharma/TST002/fcs/v04/gating_ml/AXA003_P01_Pop03.gatingml to the database as gating_ml\n",
      "2024-09-24 16:18:03,200 - INFO - Saving s3://tokuprofile-teiko/biopharma/TST002/fcs/v04/gating_ml/AXA003_P01_Pop04.gatingml to the database as gating_ml\n",
      "2024-09-24 16:18:03,252 - INFO - Saving s3://tokuprofile-teiko/biopharma/TST002/fcs/v04/gating_ml/AXA003_P01_Pop05.gatingml to the database as gating_ml\n",
      "2024-09-24 16:18:03,304 - INFO - Saving s3://tokuprofile-teiko/biopharma/TST002/fcs/v04/gating_ml/AXA003_P01_Pop06.gatingml to the database as gating_ml\n",
      "2024-09-24 16:18:03,356 - INFO - Saving s3://tokuprofile-teiko/biopharma/TST002/fcs/v04/gating_ml/AXA003_P01_Pop07.gatingml to the database as gating_ml\n",
      "2024-09-24 16:18:03,408 - INFO - Saving s3://tokuprofile-teiko/biopharma/TST002/fcs/v04/gating_ml/AXA003_P01_Pop08.gatingml to the database as gating_ml\n",
      "2024-09-24 16:18:03,459 - INFO - Saving s3://tokuprofile-teiko/biopharma/TST002/fcs/v04/gating_ml/AXA003_P01_Pop09.gatingml to the database as gating_ml\n",
      "2024-09-24 16:18:03,511 - INFO - Saving s3://tokuprofile-teiko/biopharma/TST002/fcs/v04/gating_ml/AXA003_P01_Pop10.gatingml to the database as gating_ml\n",
      "2024-09-24 16:18:03,563 - INFO - Saving s3://tokuprofile-teiko/biopharma/TST002/fcs/v04/gating_ml/AXA003_P01_Pop11.gatingml to the database as gating_ml\n",
      "2024-09-24 16:18:03,614 - INFO - Saving s3://tokuprofile-teiko/biopharma/TST002/fcs/v04/gating_ml/AXA003_P01_Pop12.gatingml to the database as gating_ml\n",
      "2024-09-24 16:18:03,665 - INFO - Saving s3://tokuprofile-teiko/biopharma/TST002/fcs/v04/gating_ml/AXA003_P01_Pop13.gatingml to the database as gating_ml\n",
      "2024-09-24 16:18:03,717 - INFO - Saving s3://tokuprofile-teiko/biopharma/TST002/fcs/v04/gating_ml/AXA003_P01_Pop14.gatingml to the database as gating_ml\n",
      "2024-09-24 16:18:03,768 - INFO - Saving s3://tokuprofile-teiko/biopharma/TST002/fcs/v04/gating_ml/AXA003_P01_Pop15.gatingml to the database as gating_ml\n",
      "2024-09-24 16:18:03,820 - INFO - Saving s3://tokuprofile-teiko/biopharma/TST002/fcs/v04/gating_ml/AXA003_P01_Pop16.gatingml to the database as gating_ml\n",
      "2024-09-24 16:18:03,872 - INFO - Saving s3://tokuprofile-teiko/biopharma/TST002/fcs/v04/gating_ml/AXA003_P02_Pop01.gatingml to the database as gating_ml\n",
      "2024-09-24 16:18:03,924 - INFO - Saving s3://tokuprofile-teiko/biopharma/TST002/fcs/v04/gating_ml/AXA003_P02_Pop02.gatingml to the database as gating_ml\n",
      "2024-09-24 16:18:03,976 - INFO - Saving s3://tokuprofile-teiko/biopharma/TST002/fcs/v04/gating_ml/AXA003_P02_Pop03.gatingml to the database as gating_ml\n",
      "2024-09-24 16:18:04,028 - INFO - Saving s3://tokuprofile-teiko/biopharma/TST002/fcs/v04/gating_ml/AXA003_P02_Pop04.gatingml to the database as gating_ml\n",
      "2024-09-24 16:18:04,081 - INFO - Saving s3://tokuprofile-teiko/biopharma/TST002/fcs/v04/gating_ml/AXA003_P02_Pop05.gatingml to the database as gating_ml\n",
      "2024-09-24 16:18:04,132 - INFO - Saving s3://tokuprofile-teiko/biopharma/TST002/fcs/v04/gating_ml/AXA003_P02_Pop06.gatingml to the database as gating_ml\n",
      "2024-09-24 16:18:04,184 - INFO - Saving s3://tokuprofile-teiko/biopharma/TST002/fcs/v04/gating_ml/AXA003_P02_Pop07.gatingml to the database as gating_ml\n",
      "2024-09-24 16:18:04,235 - INFO - Saving s3://tokuprofile-teiko/biopharma/TST002/fcs/v04/gating_ml/AXA003_P02_Pop08.gatingml to the database as gating_ml\n",
      "2024-09-24 16:18:04,286 - INFO - Saving s3://tokuprofile-teiko/biopharma/TST002/fcs/v04/gating_ml/AXA003_P02_Pop09.gatingml to the database as gating_ml\n",
      "2024-09-24 16:18:04,337 - INFO - Saving s3://tokuprofile-teiko/biopharma/TST002/fcs/v04/gating_ml/AXA003_P02_Pop10.gatingml to the database as gating_ml\n",
      "2024-09-24 16:18:04,388 - INFO - Saving s3://tokuprofile-teiko/biopharma/TST002/fcs/v04/gating_ml/AXA003_P02_Pop11.gatingml to the database as gating_ml\n",
      "2024-09-24 16:18:04,437 - INFO - Saving s3://tokuprofile-teiko/biopharma/TST002/fcs/v04/gating_ml/AXA003_P02_Pop12.gatingml to the database as gating_ml\n",
      "2024-09-24 16:18:04,487 - INFO - Saving s3://tokuprofile-teiko/biopharma/TST002/fcs/v04/gating_ml/AXA003_P02_Pop13.gatingml to the database as gating_ml\n",
      "2024-09-24 16:18:04,538 - INFO - Saving s3://tokuprofile-teiko/biopharma/TST002/fcs/v04/gating_ml/AXA003_P02_Pop14.gatingml to the database as gating_ml\n",
      "2024-09-24 16:18:04,588 - INFO - Saving s3://tokuprofile-teiko/biopharma/TST002/fcs/v04/gating_ml/AXA003_P02_Pop15.gatingml to the database as gating_ml\n",
      "2024-09-24 16:18:04,638 - INFO - Saving s3://tokuprofile-teiko/biopharma/TST002/fcs/v04/gating_ml/AXA003_P02_Pop16.gatingml to the database as gating_ml\n",
      "2024-09-24 16:18:04,689 - INFO - Saving s3://tokuprofile-teiko/biopharma/TST002/fcs/v04/gating_ml/AXA003_P03_Pop05.gatingml to the database as gating_ml\n",
      "2024-09-24 16:18:04,740 - INFO - Saving s3://tokuprofile-teiko/biopharma/TST002/fcs/v04/gating_ml/AXA003_P03_Pop06.gatingml to the database as gating_ml\n",
      "2024-09-24 16:18:04,790 - INFO - Saving s3://tokuprofile-teiko/biopharma/TST002/fcs/v04/gating_ml/AXA003_P03_Pop07.gatingml to the database as gating_ml\n",
      "2024-09-24 16:18:04,841 - INFO - Saving s3://tokuprofile-teiko/biopharma/TST002/fcs/v04/gating_ml/AXA003_P03_Pop08.gatingml to the database as gating_ml\n",
      "2024-09-24 16:18:04,892 - INFO - Saving s3://tokuprofile-teiko/biopharma/TST002/fcs/v04/gating_ml/AXA003_P03_Pop09.gatingml to the database as gating_ml\n",
      "2024-09-24 16:18:04,942 - INFO - Saving s3://tokuprofile-teiko/biopharma/TST002/fcs/v04/gating_ml/AXA003_P03_Pop10.gatingml to the database as gating_ml\n",
      "2024-09-24 16:18:04,992 - INFO - Saving s3://tokuprofile-teiko/biopharma/TST002/fcs/v04/gating_ml/AXA003_P03_Pop11.gatingml to the database as gating_ml\n",
      "2024-09-24 16:18:05,044 - INFO - Saving s3://tokuprofile-teiko/biopharma/TST002/fcs/v04/gating_ml/AXA003_P03_Pop12.gatingml to the database as gating_ml\n",
      "2024-09-24 16:18:05,094 - INFO - Saving s3://tokuprofile-teiko/biopharma/TST002/fcs/v04/gating_ml/AXA003_P03_Pop13.gatingml to the database as gating_ml\n",
      "2024-09-24 16:18:05,144 - INFO - Saving s3://tokuprofile-teiko/biopharma/TST002/fcs/v04/gating_ml/AXA003_P03_Pop15.gatingml to the database as gating_ml\n",
      "2024-09-24 16:18:05,196 - INFO - Saving s3://tokuprofile-teiko/biopharma/TST002/fcs/v04/gating_ml/AXA003_P03_Pop16.gatingml to the database as gating_ml\n",
      "2024-09-24 16:18:05,246 - INFO - Saving s3://tokuprofile-teiko/biopharma/TST002/fcs/v04/gating_ml/global.gatingml to the database as gating_ml\n",
      "2024-09-24 16:18:05,296 - INFO - Uploading to s3://tokuprofile-teiko/biopharma/TST002/fcs/v04/gating_ml/AXA003_P01_Pop01.gatingml\n",
      "2024-09-24 16:18:05,765 - INFO - Uploading to s3://tokuprofile-teiko/biopharma/TST002/fcs/v04/gating_ml/AXA003_P01_Pop02.gatingml\n",
      "2024-09-24 16:18:05,885 - INFO - Uploading to s3://tokuprofile-teiko/biopharma/TST002/fcs/v04/gating_ml/AXA003_P01_Pop03.gatingml\n",
      "2024-09-24 16:18:06,031 - INFO - Uploading to s3://tokuprofile-teiko/biopharma/TST002/fcs/v04/gating_ml/AXA003_P01_Pop04.gatingml\n",
      "2024-09-24 16:18:06,207 - INFO - Uploading to s3://tokuprofile-teiko/biopharma/TST002/fcs/v04/gating_ml/AXA003_P01_Pop05.gatingml\n",
      "2024-09-24 16:18:06,380 - INFO - Uploading to s3://tokuprofile-teiko/biopharma/TST002/fcs/v04/gating_ml/AXA003_P01_Pop06.gatingml\n",
      "2024-09-24 16:18:06,557 - INFO - Uploading to s3://tokuprofile-teiko/biopharma/TST002/fcs/v04/gating_ml/AXA003_P01_Pop07.gatingml\n",
      "2024-09-24 16:18:06,729 - INFO - Uploading to s3://tokuprofile-teiko/biopharma/TST002/fcs/v04/gating_ml/AXA003_P01_Pop08.gatingml\n",
      "2024-09-24 16:18:06,915 - INFO - Uploading to s3://tokuprofile-teiko/biopharma/TST002/fcs/v04/gating_ml/AXA003_P01_Pop09.gatingml\n",
      "2024-09-24 16:18:07,083 - INFO - Uploading to s3://tokuprofile-teiko/biopharma/TST002/fcs/v04/gating_ml/AXA003_P01_Pop10.gatingml\n",
      "2024-09-24 16:18:07,293 - INFO - Uploading to s3://tokuprofile-teiko/biopharma/TST002/fcs/v04/gating_ml/AXA003_P01_Pop11.gatingml\n",
      "2024-09-24 16:18:07,464 - INFO - Uploading to s3://tokuprofile-teiko/biopharma/TST002/fcs/v04/gating_ml/AXA003_P01_Pop12.gatingml\n",
      "2024-09-24 16:18:07,615 - INFO - Uploading to s3://tokuprofile-teiko/biopharma/TST002/fcs/v04/gating_ml/AXA003_P01_Pop13.gatingml\n",
      "2024-09-24 16:18:07,755 - INFO - Uploading to s3://tokuprofile-teiko/biopharma/TST002/fcs/v04/gating_ml/AXA003_P01_Pop14.gatingml\n",
      "2024-09-24 16:18:07,921 - INFO - Uploading to s3://tokuprofile-teiko/biopharma/TST002/fcs/v04/gating_ml/AXA003_P01_Pop15.gatingml\n",
      "2024-09-24 16:18:08,080 - INFO - Uploading to s3://tokuprofile-teiko/biopharma/TST002/fcs/v04/gating_ml/AXA003_P01_Pop16.gatingml\n",
      "2024-09-24 16:18:08,246 - INFO - Uploading to s3://tokuprofile-teiko/biopharma/TST002/fcs/v04/gating_ml/AXA003_P02_Pop01.gatingml\n",
      "2024-09-24 16:18:08,428 - INFO - Uploading to s3://tokuprofile-teiko/biopharma/TST002/fcs/v04/gating_ml/AXA003_P02_Pop02.gatingml\n",
      "2024-09-24 16:18:08,603 - INFO - Uploading to s3://tokuprofile-teiko/biopharma/TST002/fcs/v04/gating_ml/AXA003_P02_Pop03.gatingml\n",
      "2024-09-24 16:18:08,764 - INFO - Uploading to s3://tokuprofile-teiko/biopharma/TST002/fcs/v04/gating_ml/AXA003_P02_Pop04.gatingml\n",
      "2024-09-24 16:18:08,944 - INFO - Uploading to s3://tokuprofile-teiko/biopharma/TST002/fcs/v04/gating_ml/AXA003_P02_Pop05.gatingml\n",
      "2024-09-24 16:18:09,104 - INFO - Uploading to s3://tokuprofile-teiko/biopharma/TST002/fcs/v04/gating_ml/AXA003_P02_Pop06.gatingml\n",
      "2024-09-24 16:18:09,270 - INFO - Uploading to s3://tokuprofile-teiko/biopharma/TST002/fcs/v04/gating_ml/AXA003_P02_Pop07.gatingml\n",
      "2024-09-24 16:18:09,442 - INFO - Uploading to s3://tokuprofile-teiko/biopharma/TST002/fcs/v04/gating_ml/AXA003_P02_Pop08.gatingml\n",
      "2024-09-24 16:18:09,626 - INFO - Uploading to s3://tokuprofile-teiko/biopharma/TST002/fcs/v04/gating_ml/AXA003_P02_Pop09.gatingml\n",
      "2024-09-24 16:18:09,820 - INFO - Uploading to s3://tokuprofile-teiko/biopharma/TST002/fcs/v04/gating_ml/AXA003_P02_Pop10.gatingml\n",
      "2024-09-24 16:18:10,017 - INFO - Uploading to s3://tokuprofile-teiko/biopharma/TST002/fcs/v04/gating_ml/AXA003_P02_Pop11.gatingml\n",
      "2024-09-24 16:18:10,195 - INFO - Uploading to s3://tokuprofile-teiko/biopharma/TST002/fcs/v04/gating_ml/AXA003_P02_Pop12.gatingml\n",
      "2024-09-24 16:18:10,357 - INFO - Uploading to s3://tokuprofile-teiko/biopharma/TST002/fcs/v04/gating_ml/AXA003_P02_Pop13.gatingml\n",
      "2024-09-24 16:18:10,517 - INFO - Uploading to s3://tokuprofile-teiko/biopharma/TST002/fcs/v04/gating_ml/AXA003_P02_Pop14.gatingml\n",
      "2024-09-24 16:18:10,701 - INFO - Uploading to s3://tokuprofile-teiko/biopharma/TST002/fcs/v04/gating_ml/AXA003_P02_Pop15.gatingml\n",
      "2024-09-24 16:18:10,901 - INFO - Uploading to s3://tokuprofile-teiko/biopharma/TST002/fcs/v04/gating_ml/AXA003_P02_Pop16.gatingml\n",
      "2024-09-24 16:18:11,120 - INFO - Uploading to s3://tokuprofile-teiko/biopharma/TST002/fcs/v04/gating_ml/AXA003_P03_Pop05.gatingml\n",
      "2024-09-24 16:18:11,287 - INFO - Uploading to s3://tokuprofile-teiko/biopharma/TST002/fcs/v04/gating_ml/AXA003_P03_Pop06.gatingml\n",
      "2024-09-24 16:18:11,456 - INFO - Uploading to s3://tokuprofile-teiko/biopharma/TST002/fcs/v04/gating_ml/AXA003_P03_Pop07.gatingml\n",
      "2024-09-24 16:18:11,619 - INFO - Uploading to s3://tokuprofile-teiko/biopharma/TST002/fcs/v04/gating_ml/AXA003_P03_Pop08.gatingml\n",
      "2024-09-24 16:18:11,811 - INFO - Uploading to s3://tokuprofile-teiko/biopharma/TST002/fcs/v04/gating_ml/AXA003_P03_Pop09.gatingml\n",
      "2024-09-24 16:18:11,982 - INFO - Uploading to s3://tokuprofile-teiko/biopharma/TST002/fcs/v04/gating_ml/AXA003_P03_Pop10.gatingml\n",
      "2024-09-24 16:18:12,210 - INFO - Uploading to s3://tokuprofile-teiko/biopharma/TST002/fcs/v04/gating_ml/AXA003_P03_Pop11.gatingml\n",
      "2024-09-24 16:18:12,432 - INFO - Uploading to s3://tokuprofile-teiko/biopharma/TST002/fcs/v04/gating_ml/AXA003_P03_Pop12.gatingml\n",
      "2024-09-24 16:18:12,620 - INFO - Uploading to s3://tokuprofile-teiko/biopharma/TST002/fcs/v04/gating_ml/AXA003_P03_Pop13.gatingml\n",
      "2024-09-24 16:18:12,798 - INFO - Uploading to s3://tokuprofile-teiko/biopharma/TST002/fcs/v04/gating_ml/AXA003_P03_Pop15.gatingml\n",
      "2024-09-24 16:18:12,963 - INFO - Uploading to s3://tokuprofile-teiko/biopharma/TST002/fcs/v04/gating_ml/AXA003_P03_Pop16.gatingml\n",
      "2024-09-24 16:18:13,131 - INFO - Uploading to s3://tokuprofile-teiko/biopharma/TST002/fcs/v04/gating_ml/global.gatingml\n",
      "2024-09-24 16:18:13,302 - INFO - Creating new gating tree TST002;66f3375057d2a59bbbc657db;a67f9a0c\n",
      "2024-09-24 16:18:13,330 - INFO - Adding parent population 'Ungated' of the root population 'CELL'\n",
      "2024-09-24 16:18:13,389 - INFO - Successfully added meta root population Ungated\n",
      "2024-09-24 16:18:13,390 - INFO - Adding root population CELL\n",
      "2024-09-24 16:18:13,417 - INFO - Successfully added root population 'CELL'\n",
      "2024-09-24 16:18:13,418 - INFO - Adding children of root population 'CELL'\n",
      "2024-09-24 16:18:48,196 - INFO - Creating 432 GatingPopulationMarker entries\n",
      "2024-09-24 16:18:48,308 - INFO - Succesfully added 432 GatingPopulationMarker entries\n",
      "2024-09-24 16:18:48,359 - INFO - Found credentials in environment variables.\n",
      "2024-09-24 16:19:18,264 - INFO - Found credentials in environment variables.\n",
      "2024-09-24 16:19:18,587 - INFO - Channel Time is in the list of skipped channels ['Time', 'Event_length', 'Center', 'Offset', 'Width', 'Residual', 'beadDist'], skipping\n",
      "2024-09-24 16:19:18,588 - INFO - Channel Event_length is in the list of skipped channels ['Time', 'Event_length', 'Center', 'Offset', 'Width', 'Residual', 'beadDist'], skipping\n",
      "2024-09-24 16:19:18,588 - INFO - Channel Center is in the list of skipped channels ['Time', 'Event_length', 'Center', 'Offset', 'Width', 'Residual', 'beadDist'], skipping\n",
      "2024-09-24 16:19:18,589 - INFO - Channel Offset is in the list of skipped channels ['Time', 'Event_length', 'Center', 'Offset', 'Width', 'Residual', 'beadDist'], skipping\n",
      "2024-09-24 16:19:18,589 - INFO - Channel Width is in the list of skipped channels ['Time', 'Event_length', 'Center', 'Offset', 'Width', 'Residual', 'beadDist'], skipping\n",
      "2024-09-24 16:19:18,590 - INFO - Channel Residual is in the list of skipped channels ['Time', 'Event_length', 'Center', 'Offset', 'Width', 'Residual', 'beadDist'], skipping\n",
      "2024-09-24 16:19:18,590 - INFO - Channel beadDist is in the list of skipped channels ['Time', 'Event_length', 'Center', 'Offset', 'Width', 'Residual', 'beadDist'], skipping\n",
      "2024-09-24 16:19:18,617 - INFO - Adding marker CD235AB to database\n",
      "2024-09-24 16:19:18,645 - INFO - Adding marker CKit to database\n",
      "2024-09-24 16:19:18,670 - INFO - Adding marker FCER1 to database\n",
      "2024-09-24 16:19:18,729 - INFO - Found credentials in environment variables.\n",
      "2024-09-24 16:21:25,310 - INFO - Found credentials in environment variables.\n",
      "2024-09-24 16:21:25,757 - INFO - Calculated qcv for 0/953 populations\n",
      "2024-09-24 16:21:39,814 - INFO - Calculated qcv for 100/953 populations\n",
      "2024-09-24 16:21:52,503 - INFO - Calculated qcv for 200/953 populations\n",
      "2024-09-24 16:22:06,374 - INFO - Calculated qcv for 300/953 populations\n",
      "2024-09-24 16:22:22,997 - INFO - Calculated qcv for 400/953 populations\n",
      "2024-09-24 16:22:47,377 - INFO - Calculated qcv for 500/953 populations\n",
      "2024-09-24 16:23:15,205 - INFO - Calculated qcv for 600/953 populations\n",
      "2024-09-24 16:23:17,108 - INFO - Calculated qcv for 700/953 populations\n",
      "2024-09-24 16:23:18,157 - INFO - Calculated qcv for 800/953 populations\n",
      "2024-09-24 16:23:18,480 - INFO - Calculated qcv for 900/953 populations\n",
      "2024-09-24 16:23:18,693 - INFO - Adding GatingPopulationQcv records to database\n"
     ]
    },
    {
     "name": "stderr",
     "output_type": "stream",
     "text": [
      "2024-09-24 17:16:32,188| ERROR   | Socket exception: Operation timed out (60)\n"
     ]
    },
    {
     "name": "stdout",
     "output_type": "stream",
     "text": [
      "2024-09-24 17:16:32,188 - ERROR - Socket exception: Operation timed out (60)\n"
     ]
    }
   ],
   "source": [
    "#Run import_gating_stats\n",
    "from shomei.console.import_gating_stats import import_gating_stats, DEFAULT_MIN_QCV_COUNT, DEFAULT_MIN_REFERENCE_POPULATION_COUNT\n",
    "\n",
    "quantiles = [0.5]\n",
    "\n",
    "import_gating_stats(\n",
    "    project_code=project_code, \n",
    "    cellengine_experiment=experiment, \n",
    "    quantiles=quantiles,\n",
    "    min_reference_population_count=DEFAULT_MIN_REFERENCE_POPULATION_COUNT,\n",
    "    min_qcv_count=DEFAULT_MIN_QCV_COUNT,\n",
    "    dry_run=False,\n",
    "    population_marker_csv_path=f\"./{project_code}/population_markers.csv\",\n",
    "    backbone_csv_path=f\"./{project_code}/backbone.csv\",\n",
    "    )\n"
   ]
  }
 ],
 "metadata": {
  "kernelspec": {
   "display_name": "Python 3",
   "language": "python",
   "name": "python3"
  },
  "language_info": {
   "codemirror_mode": {
    "name": "ipython",
    "version": 3
   },
   "file_extension": ".py",
   "mimetype": "text/x-python",
   "name": "python",
   "nbconvert_exporter": "python",
   "pygments_lexer": "ipython3",
   "version": "3.9.20"
  }
 },
 "nbformat": 4,
 "nbformat_minor": 2
}
